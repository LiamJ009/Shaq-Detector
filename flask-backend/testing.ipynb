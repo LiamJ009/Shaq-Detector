{
 "cells": [
  {
   "cell_type": "code",
   "execution_count": 2,
   "metadata": {},
   "outputs": [],
   "source": [
    "import cv2\n",
    "import dlib\n",
    "import numpy as np\n",
    "import tensorflow as tf\n",
    "from tensorflow import keras\n",
    "from tensorflow.keras.preprocessing.image import array_to_img"
   ]
  },
  {
   "cell_type": "code",
   "execution_count": 3,
   "metadata": {},
   "outputs": [],
   "source": [
    "\n",
    "model = tf.keras.models.load_model('shaq-facial-CNN')"
   ]
  },
  {
   "cell_type": "code",
   "execution_count": 8,
   "metadata": {},
   "outputs": [],
   "source": [
    "# Initialize the Dlib face detector and shape predictor\n",
    "detector = dlib.get_frontal_face_detector()\n",
    "predictor = dlib.shape_predictor(\"shape_predictor_68_face_landmarks.dat\")\n",
    "\n",
    "preprocessed_faces = []\n",
    "\n",
    "\n",
    "def align_and_crop_faces(image_path, padding=50):\n",
    "    # Convert the image to grayscale for face detection\n",
    "    \n",
    "    image = cv2.imread(image_path)\n",
    "    \n",
    "    gray = image\n",
    "    \n",
    "    # Detect faces in the image\n",
    "    faces = detector(gray)\n",
    "\n",
    "    # Check if a face is detected\n",
    "    if len(faces) > 0:\n",
    "        # Assume there's only one face in the image for simplicity\n",
    "        face = faces[0]\n",
    "\n",
    "        # Get the facial landmarks for face alignment\n",
    "        shape = predictor(gray, face)\n",
    "\n",
    "        # Define the coordinates for the eyes\n",
    "        left_eye = shape.part(36)  # Left eye\n",
    "        right_eye = shape.part(45)  # Right eye\n",
    "\n",
    "        # Calculate the angle for rotation (to make eyes horizontal)\n",
    "        angle = np.arctan2(right_eye.y - left_eye.y, right_eye.x - left_eye.x)\n",
    "        angle = np.degrees(angle)\n",
    "\n",
    "        # Calculate new coordinates for cropping without padding\n",
    "        x = max(0, face.left() - padding)\n",
    "        y = max(0, face.top() - padding)\n",
    "        w = min(image.shape[1], face.right() + padding) - x\n",
    "        h = min(image.shape[0], face.bottom() + padding) - y\n",
    "\n",
    "        # Crop the image with the new coordinates\n",
    "        cropped_face = image[y:y+h, x:x+w]\n",
    "\n",
    "        # Check if the cropped face is not empty\n",
    "        if not cropped_face.size == 0:\n",
    "            preprocessed_faces.append(cropped_face)"
   ]
  },
  {
   "cell_type": "code",
   "execution_count": 14,
   "metadata": {},
   "outputs": [
    {
     "name": "stdout",
     "output_type": "stream",
     "text": [
      "1/1 [==============================] - 0s 116ms/step\n",
      "\n",
      "\n",
      "[[2.160138e-15 1.000000e+00]]\n",
      "\n",
      "\n",
      "1/1 [==============================] - 0s 117ms/step\n",
      "\n",
      "\n",
      "[[2.160138e-15 1.000000e+00]]\n",
      "\n",
      "\n",
      "1/1 [==============================] - 0s 116ms/step\n",
      "\n",
      "\n",
      "[[2.160138e-15 1.000000e+00]]\n",
      "\n",
      "\n",
      "1/1 [==============================] - 0s 117ms/step\n",
      "\n",
      "\n",
      "[[2.160138e-15 1.000000e+00]]\n",
      "\n",
      "\n",
      "1/1 [==============================] - 0s 117ms/step\n",
      "\n",
      "\n",
      "[[2.160138e-15 1.000000e+00]]\n",
      "\n",
      "\n"
     ]
    }
   ],
   "source": [
    "align_and_crop_faces('shaq4.jpg')\n",
    "\n",
    "for face in preprocessed_faces:\n",
    "    \n",
    "    img = keras.preprocessing.image.load_img(\n",
    "            \"shaq4.jpg\", target_size=(256, 256))\n",
    "\n",
    "    img_array = keras.preprocessing.image.img_to_array(img)\n",
    "    img_array = tf.expand_dims(img_array, 0)\n",
    "\n",
    "    predictions = model.predict(img_array)\n",
    "\n",
    "    print('\\n')\n",
    "    print(predictions)\n",
    "    print('\\n')"
   ]
  }
 ],
 "metadata": {
  "kernelspec": {
   "display_name": "base",
   "language": "python",
   "name": "python3"
  },
  "language_info": {
   "codemirror_mode": {
    "name": "ipython",
    "version": 3
   },
   "file_extension": ".py",
   "mimetype": "text/x-python",
   "name": "python",
   "nbconvert_exporter": "python",
   "pygments_lexer": "ipython3",
   "version": "3.11.3"
  }
 },
 "nbformat": 4,
 "nbformat_minor": 2
}
